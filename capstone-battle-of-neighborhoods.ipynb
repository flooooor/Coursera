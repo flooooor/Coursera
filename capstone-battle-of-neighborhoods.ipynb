{
 "cells": [
  {
   "cell_type": "markdown",
   "metadata": {
    "collapsed": true
   },
   "source": [
    "# IBM Data Science specialization on Coursera"
   ]
  },
  {
   "cell_type": "markdown",
   "metadata": {},
   "source": [
    "This notebook will be used for the final Capstone project of the 9-course specialization in Data Science from IBM on Coursera.  \n",
    "The goal of this notebook is to determine in which neighborhood in Utrecht a new restaurant should be opened. "
   ]
  },
  {
   "cell_type": "markdown",
   "metadata": {},
   "source": [
    "# Project description"
   ]
  },
  {
   "cell_type": "markdown",
   "metadata": {},
   "source": [
    "## 1. Introduction\n",
    "The beautiful city of Utrecht is based in the Netherlands in Europe.   \n",
    "It is currently filling up with expats due to multiple factors such as the steep housing prices in Amsterdam, the close proximity to Amsterdam (25 mins by train) and Brexit. As a result, spend on eating/drinking out is rising and so it offers opportunities for opening a premium quality restaurant. In order to determine the best neighborhood to settle, factors that contribute to high ratings for restaurant are researched. \n",
    "\n",
    "## 2. Research question\n",
    "Which neighborhood is most promising for opening a premium quality restaurant?\n",
    "\n",
    "In order to solve this question multiple underlying questions will be researched:\n",
    "\n",
    "* How many people live in the different neighborhoods?\n",
    "* How many restaurants are present in the neighborhood?\n",
    "* What is the average rating of \n",
    "* What is the predicted rating for a restaurant in the different neighborhoods?\n",
    "\n",
    "## 3. Data collection\n",
    "The data used for this project will come from different sources:\n",
    "\n",
    "* The neighborhoods in Utrecht. [(Utrecht)](https://www.utrecht.nl/wonen-en-leven/wijken/indeling-wijken-en-buurten/buurt-bij-wijk/)\n",
    "* The postal codes belonging to the neighborhoods. [(Postcode)](https://postcodebijadres.nl/gemeente/utrecht)\n",
    "* The venues in each neighborhood. [(FourSquare API)](https://developer.foursquare.com/)\n",
    "* Coordinates for the postal codes. [(Geocoder)](https://geocoder.readthedocs.io/index.html)\n",
    "\n",
    "The data will be merged so that each postal code is a row containing the neighborhod, district (there are multiple neighborhoods per district), coordinates, inhabitants, number of restaurants and average rating. \n",
    "\n",
    "## 4. Data for problem solving\n",
    "Correlation between rating and neighborhoods will be checked.  \n",
    "If there is a correlation, regression will be used to predict the rating for a restaurant per neighborhood. The neighborhood with the highest predicted rating will be advised. \n",
    "The goal is to show an overview on a map with the predicted rating per neighborhood.\n",
    "\n",
    "## 5. Notes\n",
    "This research is limited in the sense that it leaves out factors as investment costs and saturation.  \n",
    "It solely focuses on settling where the average rating is highest. \n",
    "\n"
   ]
  },
  {
   "cell_type": "code",
   "execution_count": null,
   "metadata": {},
   "outputs": [],
   "source": []
  }
 ],
 "metadata": {
  "kernelspec": {
   "display_name": "Python 3.6",
   "language": "python",
   "name": "python3"
  },
  "language_info": {
   "codemirror_mode": {
    "name": "ipython",
    "version": 3
   },
   "file_extension": ".py",
   "mimetype": "text/x-python",
   "name": "python",
   "nbconvert_exporter": "python",
   "pygments_lexer": "ipython3",
   "version": "3.6.8"
  }
 },
 "nbformat": 4,
 "nbformat_minor": 1
}
